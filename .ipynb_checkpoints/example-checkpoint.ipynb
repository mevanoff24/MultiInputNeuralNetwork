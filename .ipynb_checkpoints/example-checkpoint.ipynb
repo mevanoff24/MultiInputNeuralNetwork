{
 "cells": [
  {
   "cell_type": "code",
   "execution_count": 1,
   "metadata": {
    "collapsed": true
   },
   "outputs": [],
   "source": [
    "import pandas as pd\n",
    "import numpy as np\n",
    "from utils import *\n",
    "from model import *\n",
    "\n",
    "dep = 'SalePrice'\n",
    "PATH = \"data/bulldozers/\"\n",
    "df_raw = pd.read_feather('tmp/bulldozers-raw')\n",
    "keep_cols = list(np.load('tmp/keep_cols.npy'))\n",
    "\n",
    "df_raw.loc[df_raw.YearMade<1950, 'YearMade'] = 1950\n",
    "df_raw['age'] = df_raw.saleYear-df_raw.YearMade\n",
    "df_raw = df_raw[keep_cols+['age', dep]].copy()\n",
    "df_indep = df_raw.drop(dep,axis=1)\n",
    "\n",
    "n_valid = 12000\n",
    "n_trn = len(df_raw)-n_valid\n",
    "\n",
    "\n",
    "cat_flds = [n for n in df_indep.columns if df_raw[n].nunique()<n_trn/50]\n",
    "' '.join(cat_flds)\n",
    "\n",
    "for o in ['saleElapsed', 'saleDayofyear', 'saleDay', 'age', 'YearMade']: cat_flds.remove(o)\n",
    "[n for n in df_indep.drop(cat_flds,axis=1).columns if not is_numeric_dtype(df_raw[n])]\n",
    "\n",
    "\n",
    "for n in cat_flds: df_raw[n] = df_raw[n].astype('category').cat.as_ordered()\n",
    "\n",
    "cont_flds = [n for n in df_indep.columns if n not in cat_flds]\n",
    "\n",
    "df_raw = df_raw[cat_flds+cont_flds+[dep]]\n",
    "df, y, nas, mapper = preprocessing(df_raw, 'SalePrice', do_scale=True)\n",
    "\n",
    "val_idx = list(range(n_trn, len(df)))\n",
    "\n",
    "def rmse(x,y): return np.sqrt(((x-y)**2).mean())\n",
    "from sklearn.metrics import r2_score\n",
    "\n",
    "emb_c = {n: len(c.cat.categories)+1 for n,c in df_raw[cat_flds].items()}\n",
    "\n",
    "emb_szs = [(c, min(50, (c+1)//2)) for _,c in emb_c.items()]\n",
    "metrics=[rmse]"
   ]
  },
  {
   "cell_type": "code",
   "execution_count": 2,
   "metadata": {
    "collapsed": true
   },
   "outputs": [],
   "source": [
    "train_loader, val_loader = StructuredData(df, y, cat_flds, cont_flds, batch_size=64, val_index=val_idx).get_data()"
   ]
  },
  {
   "cell_type": "code",
   "execution_count": 3,
   "metadata": {
    "collapsed": true
   },
   "outputs": [],
   "source": [
    "y_range=(0,np.max(y)*1.2)\n",
    "model = MultiInputNN(emb_szs, len(cont_flds), 0.05, 1, [500,250], [0.5,0.05], use_bn=True, y_range=y_range)"
   ]
  },
  {
   "cell_type": "code",
   "execution_count": 4,
   "metadata": {},
   "outputs": [
    {
     "data": {
      "application/vnd.jupyter.widget-view+json": {
       "model_id": "c1b503cd39fe4803b8b6b11c32688bb6",
       "version_major": 2,
       "version_minor": 0
      },
      "text/plain": [
       "A Jupyter Widget"
      ]
     },
     "metadata": {},
     "output_type": "display_data"
    },
    {
     "name": "stdout",
     "output_type": "stream",
     "text": [
      "[6000/6080 (99%)]\n",
      " [1, 0.1342871966453171, 0.11697215009181895, [0.33602366727941174, 0.03586651012469295]]\n",
      "[6000/6080 (99%)]\n",
      " [2, 0.06589382205305523, 0.07047348434633431, [0.2612592931737237, 0.49691707487218933]]\n",
      "[6000/6080 (99%)]\n",
      " [3, 0.06846327830816766, 0.06540903796685889, [0.25113110873788436, 0.5471284318987006]]\n",
      "\n"
     ]
    }
   ],
   "source": [
    "fit(model, train_loader, loss=nn.MSELoss(), epochs=3, save=True, val_loader=val_loader, \n",
    "                                                    metrics=[rmse, r2_score], cycle_len=2, print_period=100)"
   ]
  }
 ],
 "metadata": {
  "kernelspec": {
   "display_name": "Python 3",
   "language": "python",
   "name": "python3"
  },
  "language_info": {
   "codemirror_mode": {
    "name": "ipython",
    "version": 3
   },
   "file_extension": ".py",
   "mimetype": "text/x-python",
   "name": "python",
   "nbconvert_exporter": "python",
   "pygments_lexer": "ipython3",
   "version": "3.6.3"
  }
 },
 "nbformat": 4,
 "nbformat_minor": 2
}
