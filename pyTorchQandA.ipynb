{
 "cells": [
  {
   "cell_type": "code",
   "execution_count": 1,
   "metadata": {},
   "outputs": [
    {
     "name": "stderr",
     "output_type": "stream",
     "text": [
      "/Users/mattevanoff/anaconda3/lib/python3.6/site-packages/h5py/__init__.py:34: FutureWarning: Conversion of the second argument of issubdtype from `float` to `np.floating` is deprecated. In future, it will be treated as `np.float64 == np.dtype(float).type`.\n",
      "  from ._conv import register_converters as _register_converters\n",
      "Using TensorFlow backend.\n",
      "/Users/mattevanoff/anaconda3/lib/python3.6/re.py:212: FutureWarning: split() requires a non-empty pattern match.\n",
      "  return _compile(pattern, flags).split(string, maxsplit)\n"
     ]
    }
   ],
   "source": [
    "import re\n",
    "import tarfile\n",
    "from keras.utils.data_utils import get_file\n",
    "from collections import Counter\n",
    "import matplotlib.pyplot as plt\n",
    "import seaborn as sns\n",
    "import numpy as np\n",
    "from keras.preprocessing.sequence import pad_sequences\n",
    "\n",
    "def tokenize(sent):\n",
    "    return [x.strip() for x in re.split('(\\W+)?', sent) if x.strip()]\n",
    "\n",
    "path = get_file('babi-tasks-v1-2.tar.gz', \n",
    "                origin='https://s3.amazonaws.com/text-datasets/babi_tasks_1-20_v1-2.tar.gz')\n",
    "tar = tarfile.open(path)\n",
    "\n",
    "challenges = {\n",
    "    # QA1 with 10,000 samples\n",
    "    'single_supporting_fact_10k': 'tasks_1-20_v1-2/en-10k/qa1_single-supporting-fact_{}.txt',\n",
    "    # QA2 with 10,000 samples\n",
    "    'two_supporting_facts_10k': 'tasks_1-20_v1-2/en-10k/qa2_two-supporting-facts_{}.txt',\n",
    "    'two_supporting_facts_1k': 'tasks_1-20_v1-2/en/qa2_two-supporting-facts_{}.txt',\n",
    "}\n",
    "challenge_type = 'single_supporting_fact_10k'\n",
    "# challenge_type = 'two_supporting_facts_10k'\n",
    "challenge = challenges[challenge_type]\n",
    "\n",
    "def parse_stories(lines):\n",
    "    data = []\n",
    "    story = []\n",
    "    for line in lines:\n",
    "        line = line.decode('utf-8').strip()\n",
    "        nid, line = line.split(' ', 1)\n",
    "        if int(nid) == 1: \n",
    "            story = []\n",
    "        if '\\t' in line:\n",
    "            q, a, supporting = line.split('\\t')\n",
    "            q = tokenize(q)\n",
    "            substory = None\n",
    "            substory = [[str(i) + \":\"] + x for i,x in enumerate(story) if x]\n",
    "            data.append((substory, q, a))\n",
    "            story.append('')\n",
    "        else: \n",
    "            story.append(tokenize(line))\n",
    "            \n",
    "    return data\n",
    "\n",
    "\n",
    "def get_stories(f):\n",
    "    data = parse_stories(f.readlines())\n",
    "    return [(story, q, answer) for story, q, answer in data]\n",
    "\n",
    "train_stories = get_stories(tar.extractfile(challenge.format('train')))\n",
    "test_stories = get_stories(tar.extractfile(challenge.format('test')))"
   ]
  },
  {
   "cell_type": "code",
   "execution_count": 2,
   "metadata": {},
   "outputs": [
    {
     "data": {
      "text/plain": [
       "([['0:', 'Mary', 'went', 'to', 'the', 'bedroom', '.'],\n",
       "  ['1:', 'John', 'journeyed', 'to', 'the', 'bathroom', '.'],\n",
       "  ['3:', 'Sandra', 'journeyed', 'to', 'the', 'hallway', '.'],\n",
       "  ['4:', 'John', 'journeyed', 'to', 'the', 'garden', '.'],\n",
       "  ['6:', 'John', 'journeyed', 'to', 'the', 'bathroom', '.'],\n",
       "  ['7:', 'Sandra', 'journeyed', 'to', 'the', 'garden', '.'],\n",
       "  ['9:', 'Sandra', 'went', 'back', 'to', 'the', 'bedroom', '.'],\n",
       "  ['10:', 'Daniel', 'travelled', 'to', 'the', 'bathroom', '.'],\n",
       "  ['12:', 'John', 'went', 'to', 'the', 'office', '.'],\n",
       "  ['13:', 'Mary', 'moved', 'to', 'the', 'office', '.']],\n",
       " ['Where', 'is', 'Sandra', '?'],\n",
       " 'bedroom')"
      ]
     },
     "execution_count": 2,
     "metadata": {},
     "output_type": "execute_result"
    }
   ],
   "source": [
    "stories = train_stories + test_stories\n",
    "stories[14]"
   ]
  },
  {
   "cell_type": "code",
   "execution_count": 3,
   "metadata": {},
   "outputs": [
    {
     "name": "stdout",
     "output_type": "stream",
     "text": [
      "vocab_size 31\n",
      "story_maxlen: 8 story_maxsents: 10 query_maxlen: 4\n"
     ]
    }
   ],
   "source": [
    "counter = Counter()\n",
    "\n",
    "for story, query, _ in stories:\n",
    "    for sentence in story:\n",
    "        for token in sentence:\n",
    "            counter[token] += 1 \n",
    "    for token in query:\n",
    "        counter[token] += 1\n",
    "        \n",
    "vocab_size = len(counter)\n",
    "print('vocab_size', vocab_size)\n",
    "\n",
    "word2idx = dict((k, i) for i, k in enumerate(counter.keys()))\n",
    "idx2word = dict((i, k) for i, k in enumerate(counter.keys()))\n",
    "\n",
    "story_maxlen = max((len(s) for x, _, _ in stories for s in x))\n",
    "story_maxsents = max((len(x) for x, _, _ in stories))\n",
    "query_maxlen = max(len(x) for _, x, _ in stories)\n",
    "print('story_maxlen:', story_maxlen, 'story_maxsents:', story_maxsents, 'query_maxlen:', query_maxlen)"
   ]
  },
  {
   "cell_type": "code",
   "execution_count": 4,
   "metadata": {},
   "outputs": [
    {
     "data": {
      "image/png": "[encoded data removed]",
      "text/plain": [
       "<Figure size 432x288 with 1 Axes>"
      ]
     },
     "metadata": {},
     "output_type": "display_data"
    }
   ],
   "source": [
    "labels, values = zip(*counter.items())\n",
    "sns.barplot(values, labels);\n",
    "sns.despine(left=True, bottom=False)\n",
    "plt.xticks(rotation=90);"
   ]
  },
  {
   "cell_type": "code",
   "execution_count": 5,
   "metadata": {},
   "outputs": [],
   "source": [
    "def create_stories(data, word2idx, seq_length, answer_length):\n",
    "    X = []\n",
    "    X_query = []\n",
    "    y = []\n",
    "    for story, query, answer in data:\n",
    "        X.append([[word2idx[token] for token in tokens] for tokens in story])\n",
    "        X_query.append([word2idx[token] for token in query])\n",
    "        y.append(word2idx[answer])\n",
    "    return X, X_query, y"
   ]
  },
  {
   "cell_type": "code",
   "execution_count": 6,
   "metadata": {},
   "outputs": [],
   "source": [
    "X, X_query, y = create_stories(train_stories, \n",
    "     word2idx, story_maxlen, query_maxlen)"
   ]
  },
  {
   "cell_type": "code",
   "execution_count": 7,
   "metadata": {},
   "outputs": [
    {
     "name": "stdout",
     "output_type": "stream",
     "text": [
      "([[0, 1, 2, 3, 4, 5, 6], [7, 8, 9, 3, 4, 10, 6]], [11, 12, 1, 13], 5)\n"
     ]
    }
   ],
   "source": [
    "for i in zip(X, X_query, y):\n",
    "    print(i)\n",
    "    break"
   ]
  },
  {
   "cell_type": "code",
   "execution_count": 8,
   "metadata": {},
   "outputs": [],
   "source": [
    "import pdb\n",
    "\n",
    "def pad_sentences(data, max_len):\n",
    "#     N = len(data)\n",
    "#     X = np.zeros((N, story_maxlen))\n",
    "#     for story in data:\n",
    "    padded_sentences = []\n",
    "    for i in range(len(data)):\n",
    "        story = data[i][0]\n",
    "#         pdb.set_trace()\n",
    "        num_padding = max_len - len(story)\n",
    "        new_story = story + [0]*num_padding\n",
    "        padded_sentences.append(new_story)\n",
    "    return padded_sentences\n",
    "\n",
    "def create_stories2(data, word2idx, seq_length, answer_length):\n",
    "    X = []\n",
    "    X_query = []\n",
    "    y = []\n",
    "    for story, query, answer in data:\n",
    "        X.append([[word2idx[token] for token in tokens] for tokens in story])\n",
    "        X_query.append([word2idx[token] for token in query])\n",
    "        y.append(word2idx[answer])\n",
    "    return([pad_sequences(x, maxlen=seq_length) for x in X],\n",
    "           pad_sequences(X_query, maxlen=answer_length), np.array(y))"
   ]
  },
  {
   "cell_type": "code",
   "execution_count": 9,
   "metadata": {},
   "outputs": [],
   "source": [
    "inputs_train, queries_train, answers_train = create_stories2(train_stories, \n",
    "     word2idx, story_maxlen, query_maxlen)\n",
    "inputs_test, queries_test, answers_test = create_stories2(test_stories, \n",
    "     word2idx, story_maxlen, query_maxlen)"
   ]
  },
  {
   "cell_type": "code",
   "execution_count": 10,
   "metadata": {},
   "outputs": [],
   "source": [
    "def stack_inputs(inputs):\n",
    "    for i, it in enumerate(inputs):\n",
    "        inputs[i] = np.concatenate([it, np.zeros((story_maxsents-it.shape[0],story_maxlen), 'int')])\n",
    "    return np.stack(inputs)\n",
    "\n",
    "inputs_train = stack_inputs(inputs_train)\n",
    "inputs_test = stack_inputs(inputs_test)"
   ]
  },
  {
   "cell_type": "markdown",
   "metadata": {},
   "source": [
    "# Model"
   ]
  },
  {
   "cell_type": "code",
   "execution_count": 11,
   "metadata": {},
   "outputs": [],
   "source": [
    "import torch\n",
    "import torch.nn as nn\n",
    "from torch.autograd import Variable\n",
    "import torch.nn.functional as F\n",
    "from torch.optim import Adam"
   ]
  },
  {
   "cell_type": "code",
   "execution_count": 12,
   "metadata": {},
   "outputs": [],
   "source": [
    "class MemoryNetwork(nn.Module):\n",
    "    def __init__(self, vocab_size, emb_dim):\n",
    "        super().__init__()\n",
    "        self.vocab_size = vocab_size\n",
    "        self.emb_dim = emb_dim\n",
    "        self.embeddings = nn.Embedding(vocab_size, emb_dim)\n",
    "        self.output_layer = nn.Linear(emb_dim, vocab_size)\n",
    "        \n",
    "    def forward(self, input_story, input_query):\n",
    "        input_shape = input_story.size()\n",
    "        batch_size, num_sentences, length_individual_sentence = input_story.size()\n",
    "        X = input_story.view(-1, length_individual_sentence)\n",
    "#         X = input_story.view(-1, num_sentences)\n",
    "        X = self.embeddings(X)\n",
    "        X = X.view(*input_shape, -1)\n",
    "        X = X.sum(2) \n",
    "        \n",
    "        q = self.embeddings(input_query)\n",
    "        q = q.sum(1).unsqueeze(1)\n",
    "\n",
    "        match = F.softmax((X * q).sum(2), dim=-1).unsqueeze(2)\n",
    "        \n",
    "        emb_c = input_story.view(-1, length_individual_sentence)\n",
    "        emb_c = self.embeddings(emb_c)\n",
    "        emb_c = emb_c.view(*input_shape, -1)\n",
    "        emb_c = emb_c.sum(2) \n",
    "        \n",
    "        response = (match * emb_c).sum(1)\n",
    "        out = F.log_softmax(self.output_layer(response), dim=-1)\n",
    "        return out"
   ]
  },
  {
   "cell_type": "markdown",
   "metadata": {},
   "source": [
    "# Create Dataloader "
   ]
  },
  {
   "cell_type": "code",
   "execution_count": 13,
   "metadata": {},
   "outputs": [],
   "source": [
    "from torch.utils.data import DataLoader, Dataset\n",
    "\n",
    "class MemDataSet(Dataset):\n",
    "    def __init__(self, inputs, queries, answers):\n",
    "        self.inputs = inputs\n",
    "        self.queries = queries\n",
    "        self.answers = answers\n",
    "        self.N = len(inputs)\n",
    "        \n",
    "    def __getitem__(self, idx):\n",
    "        return self.inputs[idx], self.queries[idx], self.answers[idx]\n",
    "    \n",
    "    def __len__(self): return self.N\n",
    "    \n",
    "\n",
    "dataset = MemDataSet(inputs_train, queries_train, answers_train)\n",
    "dataloader = DataLoader(dataset, batch_size=32, shuffle=True)"
   ]
  },
  {
   "cell_type": "markdown",
   "metadata": {},
   "source": [
    "# Train Model"
   ]
  },
  {
   "cell_type": "code",
   "execution_count": 14,
   "metadata": {},
   "outputs": [
    {
     "name": "stdout",
     "output_type": "stream",
     "text": [
      "train_accuracy 0.03125\n",
      "epoch_loss 1.06458536516428\n",
      "val_accuracy 0.99\n",
      "train_accuracy 1.0\n",
      "epoch_loss 0.05452942634671926\n",
      "val_accuracy 0.972\n",
      "train_accuracy 1.0\n",
      "epoch_loss 0.014394720615074038\n",
      "val_accuracy 1.0\n",
      "train_accuracy 1.0\n",
      "epoch_loss 0.0019814836777746676\n",
      "val_accuracy 1.0\n",
      "train_accuracy 1.0\n",
      "epoch_loss 0.0011403306093066932\n",
      "val_accuracy 1.0\n"
     ]
    }
   ],
   "source": [
    "def train(dataloader):\n",
    "    model.train()\n",
    "    n_batches = dataloader.dataset.N / dataloader.batch_size\n",
    "    epoch_loss = 0.\n",
    "    n_correct = 0.\n",
    "    for i, (batch_inputs, batch_queries, batch_answers) in enumerate(dataloader):\n",
    "        batch_inputs = Variable(batch_inputs)\n",
    "        batch_queries = Variable(batch_queries).long()\n",
    "        batch_answers = Variable(batch_answers)\n",
    "        optimizer.zero_grad()\n",
    "        pred = model(batch_inputs, batch_queries)\n",
    "        l = loss(pred, batch_answers)\n",
    "        epoch_loss += l.data[0]\n",
    "        l.backward()\n",
    "        optimizer.step()\n",
    "        if i % 1000 == 0:\n",
    "            accuracy = np.mean(batch_answers.data.numpy() == np.argmax(pred.data.numpy(), 1))\n",
    "            print('train_accuracy', accuracy)\n",
    "    return epoch_loss\n",
    "\n",
    "def validation():\n",
    "    model.eval()\n",
    "    stories = Variable(torch.from_numpy(inputs_test))\n",
    "    queries = Variable(torch.from_numpy(queries_test).long())\n",
    "    val_preds = model(stories, queries)\n",
    "    return np.mean(answers_test == np.argmax(val_preds.data.numpy(), 1))\n",
    "\n",
    "model = MemoryNetwork(vocab_size, 20)\n",
    "\n",
    "loss = nn.NLLLoss()\n",
    "optimizer = Adam(model.parameters(), lr=0.01)\n",
    "n_batches = dataloader.dataset.N / dataloader.batch_size\n",
    "epochs = 5\n",
    "for epoch in range(epochs):\n",
    "    epoch_loss = train(dataloader)       \n",
    "    print('epoch_loss', epoch_loss / n_batches)\n",
    "    validation_acc = validation()\n",
    "    print('val_accuracy', validation_acc)"
   ]
  },
  {
   "cell_type": "code",
   "execution_count": 15,
   "metadata": {},
   "outputs": [
    {
     "data": {
      "text/plain": [
       "'hallway'"
      ]
     },
     "execution_count": 15,
     "metadata": {},
     "output_type": "execute_result"
    }
   ],
   "source": [
    "i = 304\n",
    "story = Variable(torch.from_numpy(inputs_test[i])).unsqueeze(0)\n",
    "query = Variable(torch.from_numpy(queries_test[i]).long()).unsqueeze(0)\n",
    "pred = model(story, query)\n",
    "idx2word[np.argmax(pred.data.numpy())]"
   ]
  },
  {
   "cell_type": "code",
   "execution_count": 16,
   "metadata": {},
   "outputs": [
    {
     "data": {
      "text/plain": [
       "([['0:', 'Sandra', 'went', 'to', 'the', 'bathroom', '.'],\n",
       "  ['1:', 'Mary', 'journeyed', 'to', 'the', 'bathroom', '.'],\n",
       "  ['3:', 'Sandra', 'went', 'back', 'to', 'the', 'kitchen', '.'],\n",
       "  ['4:', 'Daniel', 'went', 'back', 'to', 'the', 'hallway', '.'],\n",
       "  ['6:', 'John', 'moved', 'to', 'the', 'garden', '.'],\n",
       "  ['7:', 'Daniel', 'went', 'to', 'the', 'office', '.'],\n",
       "  ['9:', 'Mary', 'moved', 'to', 'the', 'hallway', '.'],\n",
       "  ['10:', 'John', 'travelled', 'to', 'the', 'office', '.'],\n",
       "  ['12:', 'Daniel', 'journeyed', 'to', 'the', 'kitchen', '.'],\n",
       "  ['13:', 'Sandra', 'went', 'to', 'the', 'office', '.']],\n",
       " ['Where', 'is', 'Mary', '?'],\n",
       " 'hallway')"
      ]
     },
     "execution_count": 16,
     "metadata": {},
     "output_type": "execute_result"
    }
   ],
   "source": [
    "test_stories[i]"
   ]
  },
  {
   "cell_type": "code",
   "execution_count": 187,
   "metadata": {},
   "outputs": [],
   "source": []
  },
  {
   "cell_type": "code",
   "execution_count": 181,
   "metadata": {},
   "outputs": [],
   "source": []
  },
  {
   "cell_type": "code",
   "execution_count": null,
   "metadata": {},
   "outputs": [],
   "source": []
  },
  {
   "cell_type": "code",
   "execution_count": null,
   "metadata": {},
   "outputs": [],
   "source": []
  }
 ],
 "metadata": {
  "kernelspec": {
   "display_name": "Python 3",
   "language": "python",
   "name": "python3"
  },
  "language_info": {
   "codemirror_mode": {
    "name": "ipython",
    "version": 3
   },
   "file_extension": ".py",
   "mimetype": "text/x-python",
   "name": "python",
   "nbconvert_exporter": "python",
   "pygments_lexer": "ipython3",
   "version": "3.6.3"
  }
 },
 "nbformat": 4,
 "nbformat_minor": 2
}
